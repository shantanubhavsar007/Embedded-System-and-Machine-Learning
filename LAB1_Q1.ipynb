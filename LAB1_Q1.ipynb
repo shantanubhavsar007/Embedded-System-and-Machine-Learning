{
  "cells": [
    {
      "cell_type": "code",
      "execution_count": 66,
      "metadata": {
        "colab": {
          "base_uri": "https://localhost:8080/",
          "height": 35
        },
        "id": "opdFPDUIUwFr",
        "outputId": "7791a003-3529-488e-b2cf-e172df8c55c5"
      },
      "outputs": [
        {
          "output_type": "execute_result",
          "data": {
            "text/plain": [
              "'2.8.2'"
            ],
            "application/vnd.google.colaboratory.intrinsic+json": {
              "type": "string"
            }
          },
          "metadata": {},
          "execution_count": 66
        }
      ],
      "source": [
        "# TensorFlow and tf.keras\n",
        "import tensorflow as tf\n",
        "import numpy as np\n",
        "from tensorflow import keras\n",
        "\n",
        "#tf version should be 2.5 or higher\n",
        "tf.__version__"
      ]
    },
    {
      "cell_type": "code",
      "execution_count": 67,
      "metadata": {
        "id": "vjyoYtqOYSyr"
      },
      "outputs": [],
      "source": [
        "#get data\n",
        "(train_images, train_labels), (test_images, test_labels) = \\\n",
        "      keras.datasets.mnist.load_data()"
      ]
    },
    {
      "cell_type": "code",
      "execution_count": 68,
      "metadata": {
        "id": "DcA1YH3oYSyt"
      },
      "outputs": [],
      "source": [
        "#scale model\n",
        "train_images = train_images / 255.0\n",
        "test_images = test_images / 255.0"
      ]
    },
    {
      "cell_type": "code",
      "source": [
        "#reshape inputs for CNN layers\n",
        "train_images=train_images.reshape(train_images.shape[0], 28, 28, 1)\n",
        "test_images= test_images.reshape(test_images.shape[0], 28, 28, 1)"
      ],
      "metadata": {
        "id": "ew-95NpBeCoV"
      },
      "execution_count": 69,
      "outputs": []
    },
    {
      "cell_type": "code",
      "source": [
        "#lr decay function\n",
        "#def learning_rate_decay(epoch):\n",
        "  #return 0.01 * math.pow(0.6, epoch)\n",
        "\n",
        "  #lr schedule callback\n",
        "  #learning_rate_decay = tf.keras.callbacks.LearningRateScheduler(decay, verbose=True)\n",
        "                                                  "
      ],
      "metadata": {
        "id": "rATvVouzcusT"
      },
      "execution_count": 70,
      "outputs": []
    },
    {
      "cell_type": "code",
      "execution_count": 71,
      "metadata": {
        "id": "8ldtbbKjYSyu"
      },
      "outputs": [],
      "source": [
        "#setup model\n",
        "model = keras.Sequential([\n",
        "    tf.keras.layers.Conv2D(kernel_size=3, filters=12, activation='relu', padding='same', use_bias=False),\n",
        "    keras.layers.Conv2D(kernel_size=6, filters=24, activation='relu', padding='same', strides=1 ),\n",
        "    keras.layers.Conv2D(32,6,2,'same', activation='relu'),\n",
        "    keras.layers.Conv2D(32,6,2,'same', activation='relu'),\n",
        "keras.layers.Flatten(),\n",
        "    keras.layers.Dense(216, activation='relu'),\n",
        "    keras.layers.Dropout(0.4),\n",
        "    keras.layers.Dense(10, activation='softmax')\n",
        "\n",
        "])\n",
        "    \n"
      ]
    },
    {
      "cell_type": "code",
      "execution_count": 72,
      "metadata": {
        "id": "e2yOR0ACYSyv"
      },
      "outputs": [],
      "source": [
        "#compile model\n",
        "model.compile(optimizer='adam',\n",
        "          loss='sparse_categorical_crossentropy',\n",
        "          metrics=['accuracy'])"
      ]
    },
    {
      "cell_type": "code",
      "execution_count": 73,
      "metadata": {
        "colab": {
          "base_uri": "https://localhost:8080/"
        },
        "id": "E9wCKKQdYSyw",
        "outputId": "40ba0fc2-9d22-4148-8c19-f36b0ea15be0"
      },
      "outputs": [
        {
          "output_type": "stream",
          "name": "stdout",
          "text": [
            "Epoch 1/10\n",
            "1000/1000 [==============================] - 6s 6ms/step - loss: 0.1629 - accuracy: 0.9496\n",
            "Epoch 2/10\n",
            "1000/1000 [==============================] - 6s 6ms/step - loss: 0.0553 - accuracy: 0.9835\n",
            "Epoch 3/10\n",
            "1000/1000 [==============================] - 6s 6ms/step - loss: 0.0369 - accuracy: 0.9888\n",
            "Epoch 4/10\n",
            "1000/1000 [==============================] - 6s 6ms/step - loss: 0.0297 - accuracy: 0.9907\n",
            "Epoch 5/10\n",
            "1000/1000 [==============================] - 6s 6ms/step - loss: 0.0249 - accuracy: 0.9922\n",
            "Epoch 6/10\n",
            "1000/1000 [==============================] - 6s 6ms/step - loss: 0.0212 - accuracy: 0.9935\n",
            "Epoch 7/10\n",
            "1000/1000 [==============================] - 6s 6ms/step - loss: 0.0183 - accuracy: 0.9941\n",
            "Epoch 8/10\n",
            "1000/1000 [==============================] - 6s 6ms/step - loss: 0.0139 - accuracy: 0.9957\n",
            "Epoch 9/10\n",
            "1000/1000 [==============================] - 6s 6ms/step - loss: 0.0148 - accuracy: 0.9954\n",
            "Epoch 10/10\n",
            "1000/1000 [==============================] - 6s 6ms/step - loss: 0.0121 - accuracy: 0.9962\n"
          ]
        },
        {
          "output_type": "execute_result",
          "data": {
            "text/plain": [
              "<keras.callbacks.History at 0x7f02bc29b210>"
            ]
          },
          "metadata": {},
          "execution_count": 73
        }
      ],
      "source": [
        "\n",
        "#train model\n",
        "\n",
        "model.fit(train_images, train_labels, epochs=10, batch_size=60)"
      ]
    },
    {
      "cell_type": "code",
      "execution_count": 74,
      "metadata": {
        "colab": {
          "base_uri": "https://localhost:8080/"
        },
        "id": "SbLLkxRlYSyy",
        "outputId": "7a8f0b89-0d10-4fda-884f-404d0d852fac"
      },
      "outputs": [
        {
          "output_type": "stream",
          "name": "stdout",
          "text": [
            "313/313 [==============================] - 1s 4ms/step - loss: 0.0262 - accuracy: 0.9935\n",
            "\n",
            "Test accuracy: 0.9934999942779541\n"
          ]
        }
      ],
      "source": [
        "#evaluate\n",
        "test_loss, test_acc = model.evaluate(test_images,  test_labels)\n",
        "print('\\nTest accuracy:', test_acc)"
      ]
    },
    {
      "cell_type": "code",
      "execution_count": 75,
      "metadata": {
        "id": "ZxDKu4yXYSyz",
        "colab": {
          "base_uri": "https://localhost:8080/"
        },
        "outputId": "bac72a66-0128-445d-a265-4a1f38c2272b"
      },
      "outputs": [
        {
          "output_type": "stream",
          "name": "stderr",
          "text": [
            "WARNING:tensorflow:6 out of the last 6 calls to <function Model.make_predict_function.<locals>.predict_function at 0x7f02bc125d40> triggered tf.function retracing. Tracing is expensive and the excessive number of tracings could be due to (1) creating @tf.function repeatedly in a loop, (2) passing tensors with different shapes, (3) passing Python objects instead of tensors. For (1), please define your @tf.function outside of the loop. For (2), @tf.function has experimental_relax_shapes=True option that relaxes argument shapes that can avoid unnecessary retracing. For (3), please refer to https://www.tensorflow.org/guide/function#controlling_retracing and https://www.tensorflow.org/api_docs/python/tf/function for  more details.\n"
          ]
        }
      ],
      "source": [
        "# Predict on the first 5 test images.\n",
        "predictions = model.predict(test_images[:5])"
      ]
    },
    {
      "cell_type": "code",
      "execution_count": 76,
      "metadata": {
        "colab": {
          "base_uri": "https://localhost:8080/"
        },
        "id": "0ZFCed0OYSy0",
        "outputId": "e2dd07f0-7bc9-40b2-814d-b28e52bc9e4c"
      },
      "outputs": [
        {
          "output_type": "execute_result",
          "data": {
            "text/plain": [
              "array([[1.32966981e-16, 4.22026940e-16, 1.62811591e-14, 1.20597724e-15,\n",
              "        5.68046605e-16, 2.26386330e-17, 1.35150692e-22, 1.00000000e+00,\n",
              "        1.00587561e-17, 1.94030578e-15],\n",
              "       [5.26177799e-15, 5.87009460e-15, 1.00000000e+00, 3.64150131e-16,\n",
              "        1.23404751e-17, 4.74215668e-22, 6.16969058e-15, 2.76303487e-17,\n",
              "        8.09750961e-15, 2.89143697e-20],\n",
              "       [2.53823893e-12, 1.00000000e+00, 4.15611885e-11, 8.67312187e-15,\n",
              "        6.57589738e-12, 1.47860075e-11, 3.17998856e-11, 3.14211839e-08,\n",
              "        3.33702649e-11, 6.16864476e-11],\n",
              "       [1.00000000e+00, 1.01021061e-22, 2.69494391e-14, 3.06054526e-19,\n",
              "        1.93637456e-20, 1.46384664e-18, 1.31365445e-13, 1.25315639e-16,\n",
              "        2.47281043e-19, 1.53878848e-16],\n",
              "       [3.84782772e-20, 2.50234742e-14, 5.29580417e-17, 2.24507516e-22,\n",
              "        1.00000000e+00, 1.39836585e-15, 2.66716021e-15, 1.13839585e-14,\n",
              "        2.33015736e-15, 1.60650132e-10]], dtype=float32)"
            ]
          },
          "metadata": {},
          "execution_count": 76
        }
      ],
      "source": [
        "#Raw predictions\n",
        "predictions"
      ]
    },
    {
      "cell_type": "code",
      "execution_count": 77,
      "metadata": {
        "colab": {
          "base_uri": "https://localhost:8080/"
        },
        "id": "RzwjdUceYSy2",
        "outputId": "c6c037ea-fafe-444b-fe9b-a75d92604194"
      },
      "outputs": [
        {
          "output_type": "stream",
          "name": "stdout",
          "text": [
            "[7 2 1 0 4]\n"
          ]
        }
      ],
      "source": [
        "# Print our model's predictions\n",
        "print(np.argmax(predictions, axis=1))"
      ]
    },
    {
      "cell_type": "code",
      "execution_count": 78,
      "metadata": {
        "colab": {
          "base_uri": "https://localhost:8080/"
        },
        "id": "cvjLzhz3YSy3",
        "outputId": "bd6d3369-eff1-4727-cbe6-0e05290297ec"
      },
      "outputs": [
        {
          "output_type": "stream",
          "name": "stdout",
          "text": [
            "[7 2 1 0 4]\n"
          ]
        }
      ],
      "source": [
        "# Check our predictions against the ground truths\n",
        "print(test_labels[:5]) # [7, 2, 1, 0, 4]"
      ]
    }
  ],
  "metadata": {
    "colab": {
      "provenance": [],
      "collapsed_sections": []
    },
    "kernelspec": {
      "display_name": "Python 3",
      "language": "python",
      "name": "python3"
    },
    "language_info": {
      "codemirror_mode": {
        "name": "ipython",
        "version": 3
      },
      "file_extension": ".py",
      "mimetype": "text/x-python",
      "name": "python",
      "nbconvert_exporter": "python",
      "pygments_lexer": "ipython3",
      "version": "3.9.5"
    },
    "accelerator": "GPU"
  },
  "nbformat": 4,
  "nbformat_minor": 0
}